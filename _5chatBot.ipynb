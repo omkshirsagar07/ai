{
 "cells": [
  {
   "cell_type": "code",
   "execution_count": null,
   "metadata": {},
   "outputs": [],
   "source": [
    "# ChatBot"
   ]
  },
  {
   "cell_type": "code",
   "execution_count": null,
   "metadata": {},
   "outputs": [],
   "source": [
    "# Importing google search module \n",
    "from googlesearch import search\n",
    "\n",
    "data = {\n",
    "            \"account\":['Current Account', 'Savings Account'],\n",
    "            \"card\" : [\"Debit card\", \"Credit Card\"],\n",
    "            \"transaction\":[\"Debit\", \"Withdraw\", \"Transfer\"],\n",
    "           }\n",
    "\n",
    "def getName():\n",
    "    name  = input(\"Hi ! may I get your Good Name : \")\n",
    "    return name\n",
    "\n",
    "def searchFunction(query):\n",
    "    results  = search(query, num_results=4)\n",
    "    print(\"Here are some services :\")\n",
    "    for links in results:\n",
    "        print(links)\n",
    "        \n",
    "def dataBase(query):\n",
    "    # if(query in data):\n",
    "    #     for sub in data[query]\n",
    "    return \n",
    "        \n",
    "\n",
    "\n",
    "def driverFunction():\n",
    "    name = getName()\n",
    "    print(\"Hello\", name, \"How May I help you ? \")\n",
    "    inp  = input()\n",
    "    while(inp != \"exit\"):\n",
    "        dataBase(inp)\n",
    "        searchFunction(inp)\n",
    "        inp  = input(\"Is there anything else I can help you with ?\")\n",
    "driverFunction()"
   ]
  }
 ],
 "metadata": {
  "language_info": {
   "name": "python"
  },
  "orig_nbformat": 4
 },
 "nbformat": 4,
 "nbformat_minor": 2
}
