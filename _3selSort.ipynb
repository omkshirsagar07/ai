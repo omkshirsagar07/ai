{
 "cells": [
  {
   "cell_type": "code",
   "execution_count": null,
   "metadata": {},
   "outputs": [],
   "source": [
    "# Selection Sort"
   ]
  },
  {
   "cell_type": "code",
   "execution_count": null,
   "metadata": {},
   "outputs": [],
   "source": [
    "def selection(li, iSize):\n",
    "    # loop for passes\n",
    "    for pos in range(iSize):\n",
    "        min = pos\n",
    "\n",
    "        # loop for comparison and swapping\n",
    "        for j in range(min+1, iSize):\n",
    "            if(li[min] > li[j]):\n",
    "                li[min], li[j] = li[j], li[min]\n",
    "            else:\n",
    "                pos+=1\n",
    "# Input from user\n",
    "a = [] \n",
    "size  = int(input(\"Enter Size :\"))\n",
    "for z in range(size):\n",
    "    element = int(input())\n",
    "    a.append(element)\n",
    "\n",
    "print(\"Unsorted list is :\", a)\n",
    "        \n",
    "\n",
    "selection(a, len(a))\n",
    "print(\"Sorted list is :\", a)"
   ]
  }
 ],
 "metadata": {
  "language_info": {
   "name": "python"
  },
  "orig_nbformat": 4
 },
 "nbformat": 4,
 "nbformat_minor": 2
}
