{
 "cells": [
  {
   "cell_type": "code",
   "execution_count": null,
   "metadata": {},
   "outputs": [],
   "source": [
    "# Contraint Satisfaction Problem - Graph Coloring"
   ]
  },
  {
   "cell_type": "code",
   "execution_count": 2,
   "metadata": {},
   "outputs": [
    {
     "name": "stdout",
     "output_type": "stream",
     "text": [
      "{'WA': 'red', 'SA': 'blue', 'NT': 'green', 'Q': 'red', 'NSW': 'green', 'T': 'red'}\n"
     ]
    }
   ],
   "source": [
    "regions=['WA','SA','NT','Q','SA','NSW','T']\n",
    "colors=['red','blue','green']\n",
    "\n",
    "neighbours = {'WA': ['NT','SA'],\n",
    "             'NT': ['WA','SA','Q'],\n",
    "             'SA': ['WA','NSW','NT'],\n",
    "             'Q': ['NSW','NT'],\n",
    "             'NSW': ['Q','SA','T'],\n",
    "             'T': 'NSW'}\n",
    "regions_color = {}\n",
    "\n",
    "\n",
    "def validation(color, region):\n",
    "    for neighbour in neighbours[region]:\n",
    "        if(regions_color.get(neighbour) == color):\n",
    "            return False\n",
    "    return True\n",
    "\n",
    "def getColor(region):\n",
    "    for color in colors:\n",
    "        if(validation(color, region)):\n",
    "            return color\n",
    "\n",
    "\n",
    "def driverFuntion():\n",
    "    for region in regions:\n",
    "        regions_color[region] = getColor(region)\n",
    "\n",
    "driverFuntion()\n",
    "print(regions_color)"
   ]
  }
 ],
 "metadata": {
  "interpreter": {
   "hash": "5edc29c2ed010d6458d71a83433b383a96a8cbd3efe8531bc90c4b8a5b8bcec9"
  },
  "kernelspec": {
   "display_name": "Python 3.8.2 64-bit",
   "language": "python",
   "name": "python3"
  },
  "language_info": {
   "codemirror_mode": {
    "name": "ipython",
    "version": 3
   },
   "file_extension": ".py",
   "mimetype": "text/x-python",
   "name": "python",
   "nbconvert_exporter": "python",
   "pygments_lexer": "ipython3",
   "version": "3.8.2"
  },
  "orig_nbformat": 4
 },
 "nbformat": 4,
 "nbformat_minor": 2
}
