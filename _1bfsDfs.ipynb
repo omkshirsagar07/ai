{
 "cells": [
  {
   "cell_type": "markdown",
   "metadata": {},
   "source": [
    "# BFS"
   ]
  },
  {
   "cell_type": "code",
   "execution_count": null,
   "metadata": {},
   "outputs": [],
   "source": [
    "# Create Graph \n",
    "graph = {'R':['A', 'B'],\n",
    "         'A':['C', 'D'],\n",
    "         'B':['E', 'F'],\n",
    "         'C':['G', 'H'],\n",
    "         'D':[],\n",
    "         'E':['I'],\n",
    "         'F':[],\n",
    "         'G':[],\n",
    "         'H':[],\n",
    "         'I':[]\n",
    "        }\n",
    "fringe = []\n",
    "visited = []\n",
    "def BFS(graph, visited, root):\n",
    "    fringe.append(root)\n",
    "    visited.append(root)\n",
    "\n",
    "    while(fringe):\n",
    "        current = fringe.pop(0)\n",
    "\n",
    "        print(current, end=\" \")\n",
    "\n",
    "        for nb in graph[current]:\n",
    "            if(nb not in visited):\n",
    "                visited.append(nb)\n",
    "                fringe.append(nb)\n",
    "print(\"Graph Elements are : \", graph)\n",
    "print(\"Breadth First Search output is : \", end=\"\")\n",
    "BFS(graph, visited,'R')"
   ]
  },
  {
   "cell_type": "markdown",
   "metadata": {},
   "source": [
    "#DFS"
   ]
  },
  {
   "cell_type": "code",
   "execution_count": null,
   "metadata": {},
   "outputs": [],
   "source": [
    "# Create Graph \n",
    "graph = {'R':['A', 'B'],\n",
    "         'A':['C', 'D'],\n",
    "         'B':['E', 'F'],\n",
    "         'C':['G', 'H'],\n",
    "         'D':[],\n",
    "         'E':['I'],\n",
    "         'F':[],\n",
    "         'G':[],\n",
    "         'H':[],\n",
    "         'I':[]\n",
    "        }\n",
    "fringe = []\n",
    "visited = []\n",
    "\n",
    "def DFS(graph, visited, root):\n",
    "    fringe.append(root)\n",
    "    visited.append(root)\n",
    "\n",
    "    while(fringe):\n",
    "        \n",
    "        current = fringe.pop()\n",
    "        print(current, end=\" \")\n",
    "\n",
    "        successor = graph[current]\n",
    "        successor.reverse()\n",
    "        for nb in successor:\n",
    "            if(nb not in visited):\n",
    "                fringe.append(nb)\n",
    "                visited.append(current)\n",
    "\n",
    "print(\"Depth First Search output is : \", end=\"\")\n",
    "DFS(graph, visited,'R')"
   ]
  }
 ],
 "metadata": {
  "language_info": {
   "name": "python"
  },
  "orig_nbformat": 4
 },
 "nbformat": 4,
 "nbformat_minor": 2
}
